{
  "nbformat": 4,
  "nbformat_minor": 0,
  "metadata": {
    "colab": {
      "provenance": [],
      "collapsed_sections": []
    },
    "kernelspec": {
      "name": "python3",
      "display_name": "Python 3"
    },
    "language_info": {
      "name": "python"
    }
  },
  "cells": [
    {
      "cell_type": "code",
      "execution_count": null,
      "metadata": {
        "id": "bXRs61YcrCAT"
      },
      "outputs": [],
      "source": []
    },
    {
      "cell_type": "markdown",
      "source": [
        "1"
      ],
      "metadata": {
        "id": "HuXmPnw0rCuf"
      }
    },
    {
      "cell_type": "code",
      "source": [],
      "metadata": {
        "id": "h-dBWrc_rDn3"
      },
      "execution_count": null,
      "outputs": []
    },
    {
      "cell_type": "code",
      "source": [],
      "metadata": {
        "id": "2tfnf51urF5P"
      },
      "execution_count": null,
      "outputs": []
    },
    {
      "cell_type": "markdown",
      "source": [
        "2"
      ],
      "metadata": {
        "id": "PYdcp6KlrFdH"
      }
    },
    {
      "cell_type": "code",
      "source": [
        "#sumar 4\n",
        "def suma_4(x,y,z,w):\n",
        "    return(x+y+z+w)\n",
        "print(suma_4(1,2,3,4))"
      ],
      "metadata": {
        "id": "CujOYaa9rG5W"
      },
      "execution_count": null,
      "outputs": []
    },
    {
      "cell_type": "code",
      "source": [
        "#Sumar una lista\n",
        "l=[1,2,3,4,5,6,8,0,9,9,9,9,9,9,9]\n",
        "def sumar_infinite(l):\n",
        "    return sum(l)\n",
        "print(sumar_infinite(l))"
      ],
      "metadata": {
        "id": "QRj-_E6G1CoE"
      },
      "execution_count": null,
      "outputs": []
    },
    {
      "cell_type": "code",
      "source": [
        "#Multiplicar una lsita\n",
        "a=[1,2,3,4,5,6]\n",
        "def mul(a):\n",
        "  res = 1\n",
        "  for x in range a:\n",
        "    res = res * x\n",
        "  return res\n",
        "print(mul(a))"
      ],
      "metadata": {
        "colab": {
          "base_uri": "https://localhost:8080/",
          "height": 131
        },
        "id": "vXNlK-z39kQB",
        "outputId": "871313e0-042f-47f3-de87-13bddca309e3"
      },
      "execution_count": 44,
      "outputs": [
        {
          "output_type": "error",
          "ename": "SyntaxError",
          "evalue": "ignored",
          "traceback": [
            "\u001b[0;36m  File \u001b[0;32m\"<ipython-input-44-80e21adcdec7>\"\u001b[0;36m, line \u001b[0;32m4\u001b[0m\n\u001b[0;31m    for x in range a:\u001b[0m\n\u001b[0m                   ^\u001b[0m\n\u001b[0;31mSyntaxError\u001b[0m\u001b[0;31m:\u001b[0m invalid syntax\n"
          ]
        }
      ]
    },
    {
      "cell_type": "markdown",
      "source": [
        "# Factorial\n"
      ],
      "metadata": {
        "id": "upUwGMuvrJBm"
      }
    },
    {
      "cell_type": "code",
      "source": [
        "# Factorial\n",
        "def factorial(a):\n",
        "  fact=1\n",
        "  for i in range(1,a+1):\n",
        "    fact = fact * i\n",
        "  return fact\n",
        "print(factorial(5))"
      ],
      "metadata": {
        "colab": {
          "base_uri": "https://localhost:8080/"
        },
        "id": "afkuD4Y1wxcl",
        "outputId": "380cebdd-c482-405c-bcf1-15ae10dc7aa6"
      },
      "execution_count": 25,
      "outputs": [
        {
          "output_type": "stream",
          "name": "stdout",
          "text": [
            "120\n"
          ]
        }
      ]
    },
    {
      "cell_type": "markdown",
      "source": [],
      "metadata": {
        "id": "O_iI8j69s2Rn"
      }
    },
    {
      "cell_type": "code",
      "source": [
        "#Posicion par de una lista\n",
        "l=['a','b','c','d','e','f']\n",
        "def pares(l):\n",
        "    long = len(l)\n",
        "    for i in range (2,long):\n",
        "        mylist = l[i]\n",
        "    return(mylist)\n",
        "\n",
        "print(pares(l))"
      ],
      "metadata": {
        "colab": {
          "base_uri": "https://localhost:8080/"
        },
        "id": "TpojfiMzs2Df",
        "outputId": "05b30d75-e09b-4dac-8523-09fed39210d2"
      },
      "execution_count": 56,
      "outputs": [
        {
          "output_type": "stream",
          "name": "stdout",
          "text": [
            "f\n"
          ]
        }
      ]
    },
    {
      "cell_type": "code",
      "source": [],
      "metadata": {
        "id": "sPr4ot8mrIpH"
      },
      "execution_count": null,
      "outputs": []
    },
    {
      "cell_type": "code",
      "source": [],
      "metadata": {
        "id": "H7eq0dHrs4o_"
      },
      "execution_count": null,
      "outputs": []
    },
    {
      "cell_type": "markdown",
      "source": [
        "4"
      ],
      "metadata": {
        "id": "6rH-_PS6s39w"
      }
    },
    {
      "cell_type": "code",
      "source": [
        "def multi(a,b,c,d):\n",
        "    return a*b*c*d\n",
        "print(multi(1,2,3,4))"
      ],
      "metadata": {
        "id": "uo-L0HWvs5Z-"
      },
      "execution_count": null,
      "outputs": []
    }
  ]
}