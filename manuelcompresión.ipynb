{
  "nbformat": 4,
  "nbformat_minor": 0,
  "metadata": {
    "colab": {
      "provenance": [],
      "collapsed_sections": []
    },
    "kernelspec": {
      "name": "python3",
      "display_name": "Python 3"
    },
    "language_info": {
      "name": "python"
    }
  },
  "cells": [
    {
      "cell_type": "code",
      "execution_count": 110,
      "metadata": {
        "id": "u7fO152_qH6z"
      },
      "outputs": [],
      "source": [
        "#Identificar si la referencia de una lista de objetos tienen la letra W que me indica calidad del producto (w la mejor, z la peor) la opcion de identificar que\n",
        "#opción1:herramientas=[(martillo,FAIL),(clavo,GOOD),(alicate,FAIL)]\n",
        "#Opción2:martillo, le asigne un valor\n",
        "#Este FOR para agregar uan calidad a \n",
        "a=[]\n",
        "\n",
        "for i in stock:\n",
        "  a.append((i,random.choice(cality)))\n",
        "  list_good=[]\n",
        "  list_fail=[]\n",
        "list_good = [x for x in stock if \"good\" in x]\n",
        "list_fail=[x for x in stock if \"fail\" in x]\n",
        "  \n",
        "stock\n",
        "\n",
        "  \n"
      ]
    },
    {
      "cell_type": "code",
      "source": [
        "numero=[(n*2) for n in range (1,9)]\n",
        "print(numeros)"
      ],
      "metadata": {
        "colab": {
          "base_uri": "https://localhost:8080/",
          "height": 182
        },
        "id": "4bACQnUL0MJY",
        "outputId": "ba8877bb-b8c1-4f52-e335-ff682f8e4da2"
      },
      "execution_count": 106,
      "outputs": [
        {
          "output_type": "error",
          "ename": "NameError",
          "evalue": "ignored",
          "traceback": [
            "\u001b[0;31m---------------------------------------------------------------------------\u001b[0m",
            "\u001b[0;31mNameError\u001b[0m                                 Traceback (most recent call last)",
            "\u001b[0;32m<ipython-input-106-b4b67fa9030e>\u001b[0m in \u001b[0;36m<module>\u001b[0;34m\u001b[0m\n\u001b[1;32m      1\u001b[0m \u001b[0mnumero\u001b[0m\u001b[0;34m=\u001b[0m\u001b[0;34m[\u001b[0m\u001b[0;34m(\u001b[0m\u001b[0mn\u001b[0m\u001b[0;34m*\u001b[0m\u001b[0;36m2\u001b[0m\u001b[0;34m)\u001b[0m \u001b[0;32mfor\u001b[0m \u001b[0mn\u001b[0m \u001b[0;32min\u001b[0m \u001b[0mrange\u001b[0m \u001b[0;34m(\u001b[0m\u001b[0;36m1\u001b[0m\u001b[0;34m,\u001b[0m\u001b[0;36m9\u001b[0m\u001b[0;34m)\u001b[0m\u001b[0;34m]\u001b[0m\u001b[0;34m\u001b[0m\u001b[0;34m\u001b[0m\u001b[0m\n\u001b[0;32m----> 2\u001b[0;31m \u001b[0mprint\u001b[0m\u001b[0;34m(\u001b[0m\u001b[0mnumeros\u001b[0m\u001b[0;34m)\u001b[0m\u001b[0;34m\u001b[0m\u001b[0;34m\u001b[0m\u001b[0m\n\u001b[0m",
            "\u001b[0;31mNameError\u001b[0m: name 'numeros' is not defined"
          ]
        }
      ]
    },
    {
      "cell_type": "code",
      "source": [
        "numero = [2,5,6,7,8,10]\n",
        "cua=[(n**2)for n in numero]\n",
        "print(cua)"
      ],
      "metadata": {
        "colab": {
          "base_uri": "https://localhost:8080/"
        },
        "id": "QOkroM_S7Fc1",
        "outputId": "bb5daeb2-612a-45b3-c5cd-669c342a650f"
      },
      "execution_count": 111,
      "outputs": [
        {
          "output_type": "stream",
          "name": "stdout",
          "text": [
            "[4, 25, 36, 49, 64, 100]\n"
          ]
        }
      ]
    },
    {
      "cell_type": "code",
      "source": [
        "x=input(\"Ingrese la palabra que desee: \")\n",
        "lista=[n for n in x]\n",
        "print(lista)"
      ],
      "metadata": {
        "id": "5gnmwKPQD1M5"
      },
      "execution_count": null,
      "outputs": []
    },
    {
      "cell_type": "code",
      "source": [
        "lista1=[2,7,10,9,8]\n",
        "lista2=[elementos**2 for elementos in lista1 if elementos%2==0 ]\n",
        "print(\"nueva lista\",lista2)"
      ],
      "metadata": {
        "id": "niigQZ8ED1r4"
      },
      "execution_count": null,
      "outputs": []
    },
    {
      "cell_type": "code",
      "source": [
        "import random \n",
        "capitan=[random.randrange(1,30)for i in range(9)]\n",
        "print(\"Imprimir números aleatorios de la lista: \",str(capitan))"
      ],
      "metadata": {
        "id": "XGpXNus7EvsN"
      },
      "execution_count": null,
      "outputs": []
    },
    {
      "cell_type": "code",
      "source": [
        "precios=[]\n",
        "print('ingrese los números de los que quieres hacer un descuento')\n",
        "det=True\n",
        "while det:\n",
        "  num=int (input('sino desea agregar mas números digite 0'))\n",
        "  precios.append(num)\n",
        "  det= False if num==0 else num>0\n",
        "des=float(input(print('ingrese el descuento sin el %')))\n",
        "presdes=[precio*des/100 for precio in precios]\n",
        "presdes.pop(-1)\n",
        "print('este es el valor a restar',presdes) "
      ],
      "metadata": {
        "id": "eNF6Jg_5HfTH"
      },
      "execution_count": null,
      "outputs": []
    },
    {
      "cell_type": "code",
      "source": [
        "num=[]\n",
        "for i in range(6):\n",
        "  num.append(int(input(\"ingresa el n ganador\")))\n",
        "num.sort()\n",
        "print(\"los numeros son\"+str(num))"
      ],
      "metadata": {
        "id": "cSDjuWBmIxEx"
      },
      "execution_count": null,
      "outputs": []
    }
  ]
}